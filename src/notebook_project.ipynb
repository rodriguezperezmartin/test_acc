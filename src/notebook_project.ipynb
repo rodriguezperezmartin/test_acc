{
 "cells": [
  {
   "cell_type": "code",
   "execution_count": 1,
   "id": "f479440f",
   "metadata": {},
   "outputs": [
    {
     "name": "stdout",
     "output_type": "stream",
     "text": [
      "here is my test jupyter notebook\n"
     ]
    }
   ],
   "source": [
    "print('here is my test jupyter notebook')"
   ]
  },
  {
   "cell_type": "code",
   "execution_count": null,
   "id": "995b83da",
   "metadata": {},
   "outputs": [],
   "source": []
  }
 ],
 "metadata": {
  "kernelspec": {
   "display_name": "Python 3 (ipykernel)",
   "language": "python",
   "name": "python3"
  },
  "language_info": {
   "codemirror_mode": {
    "name": "ipython",
    "version": 3
   },
   "file_extension": ".py",
   "mimetype": "text/x-python",
   "name": "python",
   "nbconvert_exporter": "python",
   "pygments_lexer": "ipython3",
   "version": "3.11.7"
  }
 },
 "nbformat": 4,
 "nbformat_minor": 5
}
